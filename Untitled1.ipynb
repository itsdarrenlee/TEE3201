{
 "cells": [
  {
   "cell_type": "code",
   "execution_count": 47,
   "metadata": {
    "ExecuteTime": {
     "end_time": "2021-03-20T14:23:04.943426Z",
     "start_time": "2021-03-20T14:22:55.988451Z"
    }
   },
   "outputs": [
    {
     "name": "stdout",
     "output_type": "stream",
     "text": [
      "INSERT GREETING\n",
      ">>> What can I do for you?\n",
      "\n",
      "amdf amdf adsfasdf \"\" adsfn,asdf123123,,,\n",
      "['amdf', 'amdf', 'adsfasdf', '\"\"', 'adsfn,asdf123123,,,']\n"
     ]
    }
   ],
   "source": [
    "class UserInterface:\n",
    "    userInput = \"\"\n",
    "    \n",
    "    def __init__(self):\n",
    "        return\n",
    "        \n",
    "    def show_greeting(self):\n",
    "        print(\"INSERT GREETING\")\n",
    "        return\n",
    "    \n",
    "    def read_command(self):\n",
    "        print(\">>> What can I do for you?\\n\")\n",
    "        return input().strip()\n",
    "        \n",
    "    def display(self, screenOutput):\n",
    "        return screenOutput\n",
    "    \n",
    "def main():\n",
    "    ui = UserInterface()\n",
    "    ui.show_greeting()\n",
    "    command = ui.read_command()\n",
    "    print(command)\n",
    "    \n",
    "main()"
   ]
  },
  {
   "cell_type": "code",
   "execution_count": 51,
   "metadata": {
    "ExecuteTime": {
     "end_time": "2021-03-20T14:25:14.614192Z",
     "start_time": "2021-03-20T14:25:14.609181Z"
    }
   },
   "outputs": [],
   "source": [
    "def execute_command(command_parts, task_manager, ui):\n",
    "    action = command_parts.split()[0]\n",
    "    if action == '':\n",
    "        return\n",
    "    elif action == 'exit':\n",
    "        ui.display('Bye!')\n",
    "        sys.exit()\n",
    "    elif action == 'list':\n",
    "        message = task_manager.get_items_as_table()\n",
    "        ui.display(message)\n",
    "    elif action == 'help':\n",
    "        ui.display(userHelp)\n",
    "        \n",
    "    elif action == 'todo':\n",
    "        message = task_manager.add_item(ToDo(command_parts[1], False))\n",
    "        ui.display(message)\n",
    "    elif action == 'deadline':\n",
    "        message = task_manager.add_item(Deadline(command_parts[1], False))\n",
    "        ui.display(message)\n",
    "    elif action == 'done':\n",
    "        message = task_manager.mark_item_as_done(command_parts[1])\n",
    "        ui.display(message)\n",
    "    elif action == 'pending':\n",
    "        message = task_manager.mark_item_as_pending(command_parts[1])\n",
    "        ui.display(message)\n",
    "    elif action == 'delete':\n",
    "        message = task_manager.delete(command_parts[1])\n",
    "        ui.display(message)\n",
    "    else:\n",
    "        raise Exception('Command not recognized')\n",
    "    return"
   ]
  },
  {
   "cell_type": "code",
   "execution_count": null,
   "metadata": {},
   "outputs": [],
   "source": []
  }
 ],
 "metadata": {
  "kernelspec": {
   "display_name": "Python 3",
   "language": "python",
   "name": "python3"
  },
  "language_info": {
   "codemirror_mode": {
    "name": "ipython",
    "version": 3
   },
   "file_extension": ".py",
   "mimetype": "text/x-python",
   "name": "python",
   "nbconvert_exporter": "python",
   "pygments_lexer": "ipython3",
   "version": "3.8.3"
  }
 },
 "nbformat": 4,
 "nbformat_minor": 4
}
